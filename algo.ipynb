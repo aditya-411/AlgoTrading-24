{
 "cells": [
  {
   "cell_type": "markdown",
   "metadata": {},
   "source": [
    "# Algo trading strategy for ETH-USDT pair"
   ]
  },
  {
   "cell_type": "markdown",
   "metadata": {},
   "source": [
    "## Importing python modules and data"
   ]
  },
  {
   "cell_type": "code",
   "execution_count": 355,
   "metadata": {},
   "outputs": [],
   "source": [
    "import yfinance as yf \n",
    "import pandas as pd\n",
    "import numpy as np \n",
    "import matplotlib.pyplot as plt\n",
    "import mplfinance as mpf\n",
    "import datetime\n",
    "import os\n",
    "import sys\n",
    "import time\n",
    "import numpy as np\n"
   ]
  },
  {
   "cell_type": "markdown",
   "metadata": {},
   "source": [
    "### Importing data"
   ]
  },
  {
   "cell_type": "code",
   "execution_count": 356,
   "metadata": {},
   "outputs": [
    {
     "name": "stderr",
     "output_type": "stream",
     "text": [
      "[*********************100%%**********************]  1 of 1 completed\n"
     ]
    }
   ],
   "source": [
    "eth = yf.download('ETH-USD', start='2021-01-01', end='2023-12-31', interval='1d')\n",
    "eth.drop(['Volume', 'Adj Close'], axis=1, inplace=True)"
   ]
  },
  {
   "cell_type": "markdown",
   "metadata": {},
   "source": [
    "## Defining the Class for the strategy and running it"
   ]
  },
  {
   "cell_type": "markdown",
   "metadata": {},
   "source": [
    "### Defining the strategy class"
   ]
  },
  {
   "cell_type": "code",
   "execution_count": 357,
   "metadata": {},
   "outputs": [],
   "source": [
    "class strategy:\n",
    "    def __init__(self, dataframe):\n",
    "        self.df = dataframe"
   ]
  },
  {
   "cell_type": "markdown",
   "metadata": {},
   "source": [
    "### Adding HeikenAshi candles calculating function"
   ]
  },
  {
   "cell_type": "code",
   "execution_count": 358,
   "metadata": {},
   "outputs": [],
   "source": [
    "#Calculating the Heiken Ashi candles\n",
    "\n",
    "\n",
    "def calculate_heiken_ashi_candles(self):\n",
    "    self.df['HA_Close'] = (self.df['Open'] + self.df['High'] + self.df['Low'] + self.df['Close']) / 4\n",
    "    self.df['HA_Open'] = (self.df['Open'].shift(1) + self.df['Close'].shift(1)) / 2\n",
    "    self.df['HA_High'] = self.df[['High', 'HA_Open', 'HA_Close']].max(axis=1)\n",
    "    self.df['HA_Low'] = self.df[['Low', 'HA_Open', 'HA_Close']].min(axis=1)\n",
    "\n",
    "strategy.calculate_heiken_ashi_candles = calculate_heiken_ashi_candles"
   ]
  },
  {
   "cell_type": "markdown",
   "metadata": {},
   "source": [
    "### Adding ATR calculating function"
   ]
  },
  {
   "cell_type": "code",
   "execution_count": 359,
   "metadata": {},
   "outputs": [],
   "source": [
    "def calculate_atr(self, period=14):\n",
    "    high_low = self.df['High'] - self.df['Low']\n",
    "    high_close = abs(self.df['High'] - self.df['Close'].shift(1))\n",
    "    low_close = abs(self.df['Low'] - self.df['Close'].shift(1))\n",
    "    true_range = pd.concat([high_low, high_close, low_close], axis=1).max(axis=1)\n",
    "    atr = true_range.rolling(period).mean()\n",
    "    self.df['ATR'] = atr\n",
    "    return self.df\n",
    "\n",
    "strategy.calculate_atr = calculate_atr"
   ]
  },
  {
   "cell_type": "markdown",
   "metadata": {},
   "source": [
    "### Adding Keltner Channel calculating function"
   ]
  },
  {
   "cell_type": "code",
   "execution_count": 360,
   "metadata": {},
   "outputs": [],
   "source": [
    "def calculate_keltner_channels(self, period=20, multiplier=2.5):\n",
    "    self.df['KC_Middle'] = self.df['Close'].rolling(period).mean()\n",
    "    self.df['KC_Upper'] = self.df['KC_Middle'] + multiplier * self.df['Close'].rolling(period).std()\n",
    "    self.df['KC_Lower'] = self.df['KC_Middle'] - multiplier * self.df['Close'].rolling(period).std()\n",
    "    return self.df\n",
    "\n",
    "strategy.calculate_keltner_channels = calculate_keltner_channels"
   ]
  },
  {
   "cell_type": "markdown",
   "metadata": {},
   "source": [
    "### Backtesting strat function to find optimal settings"
   ]
  },
  {
   "cell_type": "code",
   "execution_count": 361,
   "metadata": {},
   "outputs": [],
   "source": [
    "def backtest(self, take_profit_atr, stop_loss_atr, transaction_cost = 0.001):\n",
    "    eth = self.df.copy()    # Use a copy of main dataframe\n",
    "    eth.dropna(inplace=True)   # remove rows with Null values\n",
    "\n",
    "    eth['capital'] = None \n",
    "    eth.at[eth.index[0], 'capital'] = 1000\n",
    "    eth['position'] = None \n",
    "    eth.at[eth.index[0], 'position'] = 0\n",
    "\n",
    "\n",
    "    stop_loss = 0\n",
    "    trades = 0\n",
    "    take_profit = 0\n",
    "\n",
    "    for i in range(1, len(eth)):\n",
    "        if eth.iloc[i-1]['position'] == 0:\n",
    "            if (eth.iloc[i]['Close'] > eth.iloc[i]['KC_Upper']) and (eth.iloc[i-1]['Close'] < eth.iloc[i-1]['KC_Upper']) and (eth.iloc[i]['HA_Close'] > eth.iloc[i]['HA_Open']) and (eth.iloc[i-1]['HA_Close'] > eth.iloc[i-1]['HA_Open']):\n",
    "                eth.at[eth.index[i], 'position'] = (eth.iloc[i-1]['capital'] / (1+transaction_cost))/ eth.iloc[i]['Close']\n",
    "                eth.at[eth.index[i], 'capital'] = 0\n",
    "                stop_loss = eth.iloc[i]['Close'] -  stop_loss_atr * eth.iloc[i]['ATR']\n",
    "                take_profit = eth.iloc[i]['Close'] +  take_profit_atr * eth.iloc[i]['ATR']\n",
    "                trades +=1\n",
    "            else:\n",
    "                eth.at[eth.index[i], 'capital'] = eth.iloc[i-1]['capital']\n",
    "                eth.at[eth.index[i], 'position'] = eth.iloc[i-1]['position']\n",
    "        else:\n",
    "            if (eth.iloc[i]['Low']< stop_loss) and eth.iloc[i-1]['position'] > 0:\n",
    "                eth.at[eth.index[i], 'capital'] = ((eth.iloc[i-1]['position'] * stop_loss)/ (1+transaction_cost))\n",
    "                eth.at[eth.index[i], 'position'] = 0\n",
    "            elif (eth.iloc[i]['High']> take_profit) and eth.iloc[i-1]['position'] > 0:\n",
    "                eth.at[eth.index[i], 'capital'] = ((eth.iloc[i-1]['position'] * take_profit)/ (1+transaction_cost))\n",
    "                eth.at[eth.index[i], 'position'] = 0\n",
    "            else:\n",
    "                eth.at[eth.index[i], 'capital'] = eth.iloc[i-1]['capital']\n",
    "                eth.at[eth.index[i], 'position'] = eth.iloc[i-1]['position']\n",
    "    eth['portfolio_value'] = eth['capital'] + eth['Close'] * eth['position']        \n",
    "    return eth.iloc[-1]['portfolio_value']\n",
    "\n",
    "strategy.backtest = backtest\n",
    "\n",
    "\n"
   ]
  },
  {
   "cell_type": "markdown",
   "metadata": {},
   "source": [
    "### Find the Optimal Settings"
   ]
  },
  {
   "cell_type": "code",
   "execution_count": 362,
   "metadata": {},
   "outputs": [
    {
     "name": "stdout",
     "output_type": "stream",
     "text": [
      "The maximum portfolio value at end for 1.0 atr wide keltner channel is 6301.318868261309 at set_atr 6.5 and stop_atr 1.5\n",
      "The maximum portfolio value at end for 1.5 atr wide keltner channel is 3998.1342707814097 at set_atr 5.5 and stop_atr 1.5\n",
      "The maximum portfolio value at end for 2.0 atr wide keltner channel is 3315.176637824353 at set_atr 3.5 and stop_atr 2.0\n"
     ]
    }
   ],
   "source": [
    "strat = strategy(eth)\n",
    "strat.calculate_heiken_ashi_candles()\n",
    "strat.calculate_atr()\n",
    "\n",
    "best_result = 0\n",
    "keltner_multiplier = 0\n",
    "best_set_atr = 0\n",
    "best_stop_atr = 0\n",
    "\n",
    "for i in range(2,5):\n",
    "    strat.calculate_keltner_channels(multiplier=(i/2))\n",
    "    returns = []\n",
    "    for j in range(5, 15):\n",
    "        set_atr = j/2\n",
    "        for k in range(2, 6):\n",
    "            stop_atr = k/2\n",
    "            returns.append([strat.backtest(set_atr, stop_atr), set_atr, stop_atr])\n",
    "    best = max(returns)\n",
    "    print(f\"The maximum portfolio value at end for {i/2} atr wide keltner channel is {best[0]} at set_atr {best[1]} and stop_atr {best[2]}\")\n",
    "    if best[0] > best_result:\n",
    "        best_result = best[0]\n",
    "        keltner_multiplier = i/2\n",
    "        best_set_atr = best[1]\n",
    "        best_stop_atr = best[2]\n"
   ]
  },
  {
   "cell_type": "markdown",
   "metadata": {},
   "source": [
    "### Add the function to calculate all the important things with optimal values"
   ]
  },
  {
   "cell_type": "code",
   "execution_count": 363,
   "metadata": {},
   "outputs": [],
   "source": [
    "def backtest_with_details(self, take_profit_atr, stop_loss_atr, transaction_cost = 0.001):  # The function to run in the end with optimal values\n",
    "    eth = self.df.copy()    # Use a copy of main dataframe\n",
    "    eth.dropna(inplace=True)   # remove rows with Null values\n",
    "\n",
    "    eth['capital'] = None \n",
    "    eth.at[eth.index[0], 'capital'] = 1000\n",
    "    eth['position'] = None \n",
    "    eth.at[eth.index[0], 'position'] = 0\n",
    "\n",
    "\n",
    "    stop_loss = 0\n",
    "    take_profit = 0\n",
    "    open_price = 0\n",
    "    days_open = 0\n",
    "\n",
    "\n",
    "    winning_trades = []\n",
    "    losing_trades = []\n",
    "    gross_profit = 0\n",
    "\n",
    "    holding_duration = []\n",
    "    charges = 0\n",
    "\n",
    "    for i in range(1, len(eth)):\n",
    "        if eth.iloc[i-1]['position'] == 0:\n",
    "            if (eth.iloc[i]['Close'] > eth.iloc[i]['KC_Upper']) and (eth.iloc[i-1]['Close'] < eth.iloc[i-1]['KC_Upper']) and (eth.iloc[i]['HA_Close'] > eth.iloc[i]['HA_Open']) and (eth.iloc[i-1]['HA_Close'] > eth.iloc[i-1]['HA_Open']):\n",
    "                eth.at[eth.index[i], 'position'] = (eth.iloc[i-1]['capital'] / (1+transaction_cost))/ eth.iloc[i]['Close']  # Buy only as much as you can pay transaction cost for\n",
    "                charges += eth.iloc[i]['Close'] * eth.at[eth.index[i], 'position'] * transaction_cost                       # add up the charges\n",
    "                open_price = eth.iloc[i]['Close']                                                                           # set the open price for the trade\n",
    "                eth.at[eth.index[i], 'capital'] = 0                                                                         # set the capital to 0\n",
    "                stop_loss = eth.iloc[i]['Close'] -  stop_loss_atr * eth.iloc[i]['ATR']                                      # set the stop loss\n",
    "                take_profit = eth.iloc[i]['Close'] +  take_profit_atr * eth.iloc[i]['ATR']                                  # set the take profit   \n",
    "                days_open = 0                                                                                               # set the days trade has been open for to 0\n",
    "            else:\n",
    "                eth.at[eth.index[i], 'capital'] = eth.iloc[i-1]['capital']\n",
    "                eth.at[eth.index[i], 'position'] = eth.iloc[i-1]['position']\n",
    "                days_open += 1\n",
    "\n",
    "\n",
    "        else:\n",
    "            if (eth.iloc[i]['Low']< stop_loss) and eth.iloc[i-1]['position'] > 0:\n",
    "                freed_capital = eth.iloc[i-1]['position'] * stop_loss\n",
    "                eth.at[eth.index[i], 'capital'] =  freed_capital * (1-transaction_cost)                                      # sell at stop loss price and pay transaction cost from received capital\n",
    "                eth.at[eth.index[i], 'position'] = 0                                                                         # set position to 0\n",
    "                losing_trades.append((-eth.iloc[i]['Close'] + open_price) / open_price * 100)                                # append the loss as a percentage of the open price to losing trades list\n",
    "                gross_profit += eth.iloc[i]['capital'] - (open_price*eth.iloc[i-1]['position'])                                                            # add the loss to gross profit\n",
    "                holding_duration.append(days_open+1)                                                                          # append the days trade was open for\n",
    "                charges += freed_capital * transaction_cost                                                                  # add the transaction cost to charges\n",
    "\n",
    "\n",
    "            elif (eth.iloc[i]['High']> take_profit) and eth.iloc[i-1]['position'] > 0:\n",
    "                freed_capital = eth.iloc[i-1]['position'] * take_profit\n",
    "                eth.at[eth.index[i], 'capital'] = freed_capital * (1-transaction_cost)                                       # sell at take profit price and pay transaction cost from received capital\n",
    "                eth.at[eth.index[i], 'position'] = 0                                                                         # set position to 0\n",
    "                winning_trades.append((eth.iloc[i]['Close'] - open_price) / open_price * 100)                                # append the profit as a percentage of the open price to winning trades list\n",
    "                gross_profit += eth.iloc[i]['capital'] - (open_price*eth.iloc[i-1]['position'])                                                        # add the profit to gross profit\n",
    "                holding_duration.append(days_open+1)                                                                         # append the days trade was open for\n",
    "                charges += freed_capital * transaction_cost                                                                  # add the transaction cost to charges\n",
    "\n",
    "            else:\n",
    "                eth.at[eth.index[i], 'capital'] = eth.iloc[i-1]['capital']\n",
    "                eth.at[eth.index[i], 'position'] = eth.iloc[i-1]['position']\n",
    "                days_open += 1\n",
    "\n",
    "    if eth.iloc[-1]['position'] > 0:\n",
    "        eth.at[eth.index[-1], 'capital'] = eth.iloc[-1]['position'] * eth.iloc[-1]['Close'] * (1-transaction_cost)         # sell at last closing price and pay transaction cost from received capital\n",
    "        eth.at[eth.index[-1], 'position'] = 0                                                                             # set position to 0\n",
    "        if eth.iloc[-1]['Close']> open_price:\n",
    "            winning_trades.append((eth.iloc[-1]['Close'] - open_price) / open_price * 100)                                    # append the profit as a percentage of the open price to winning trades list\n",
    "        else:\n",
    "            losing_trades.append((-eth.iloc[-1]['Close'] + open_price) / open_price * 100)                                    # append the profit as a percentage of the open price to losing trades list\n",
    "        gross_profit += eth.iloc[i]['capital'] - (open_price*eth.iloc[i-1]['position'])                                                                 # add the profit to gross profit\n",
    "        holding_duration.append(days_open+1)                                                                             # append the days trade was open for\n",
    "        charges += eth.iloc[-1]['position'] * eth.iloc[-1]['Close'] * transaction_cost                                   # add the transaction cost to charges\n",
    "    eth['portfolio_value'] = eth['capital'] + eth['Close'] * eth['position']     \n",
    "    return winning_trades, losing_trades, gross_profit, holding_duration, charges, eth\n",
    "\n",
    "strategy.backtest_with_details = backtest_with_details"
   ]
  },
  {
   "cell_type": "markdown",
   "metadata": {},
   "source": [
    "## Stats"
   ]
  },
  {
   "cell_type": "code",
   "execution_count": 369,
   "metadata": {},
   "outputs": [
    {
     "name": "stdout",
     "output_type": "stream",
     "text": [
      "Total trades: 21\n",
      "Win Rate: 48.0%\n",
      "Average winning trade: 32.31%\n",
      "Average losing trade: 6.98%\n",
      "Average holding duration: 20.76 days\n",
      "Charges: 164.34\n",
      "Gross profit: 5377.48\n",
      "Net profit: 5213.14\n",
      "Sharpe Ratio: 1.6\n",
      "Maximum Drawdown: 30.36%\n",
      "Sortino Ratio: 1.7\n"
     ]
    }
   ],
   "source": [
    "strat.calculate_keltner_channels(multiplier=keltner_multiplier)\n",
    "winning_trades, losing_trades, gross_profit, holding_duration, charges, result = strat.backtest_with_details(best_set_atr, best_stop_atr)\n",
    "\n",
    "print(f\"Total trades: {len(winning_trades) + len(losing_trades)}\")\n",
    "print(f\"Win Rate: {round(len(winning_trades)/(len(winning_trades)+len(losing_trades)), 2)*100}%\")\n",
    "print(f\"Average winning trade: {round(np.mean(winning_trades), 2)}%\")\n",
    "print(f\"Average losing trade: {round(np.mean(losing_trades), 2)}%\")\n",
    "print(f\"Average holding duration: {round(np.mean(holding_duration), 2)} days\")\n",
    "print(f\"Charges: {round(charges, 2)}\")\n",
    "print(f\"Gross profit: {round(gross_profit,2)}\")\n",
    "print(f\"Net profit: {round(gross_profit - charges, 2)}\")\n",
    "\n",
    "# Calculate daily returns\n",
    "returns = result['portfolio_value'].pct_change()\n",
    "\n",
    "# Calculate annualized return\n",
    "annualized_return = np.mean(returns) * 365\n",
    "\n",
    "# Calculate annualized volatility\n",
    "annualized_volatility = np.std(returns) * np.sqrt(365)\n",
    "\n",
    "# Calculate Sharpe Ratio\n",
    "sharpe_ratio = annualized_return / annualized_volatility\n",
    "\n",
    "print(f\"Sharpe Ratio: {round(sharpe_ratio, 2)}\")\n",
    "\n",
    "portfolio_value = result['portfolio_value']\n",
    "peak = portfolio_value.cummax()\n",
    "drawdown = (portfolio_value - peak) / peak\n",
    "max_drawdown = drawdown.min()\n",
    "\n",
    "print(f\"Maximum Drawdown: {round(-max_drawdown*100, 2)}%\")\n",
    "\n",
    "negative_returns = returns[returns < 0]\n",
    "downside_deviation = np.std(negative_returns)\n",
    "\n",
    "sortino_ratio = (annualized_return - 0) / (downside_deviation * np.sqrt(365))\n",
    "\n",
    "print(f\"Sortino Ratio: {round(sortino_ratio, 2)}\")\n",
    "\n",
    "\n"
   ]
  },
  {
   "cell_type": "markdown",
   "metadata": {},
   "source": [
    "## Visualization "
   ]
  },
  {
   "cell_type": "code",
   "execution_count": 365,
   "metadata": {},
   "outputs": [
    {
     "data": {
      "image/png": "[encoded data removed]",
      "text/plain": [
       "<Figure size 640x480 with 1 Axes>"
      ]
     },
     "metadata": {},
     "output_type": "display_data"
    }
   ],
   "source": [
    "plt.plot(result.index, result['portfolio_value'], color='red', label=\"Strategy\")\n",
    "plt.plot(result.index, result['Close']*1000/result['Close'].iloc[0], color='blue', label=\"Buy and Hold\")\n",
    "plt.legend(loc=\"upper left\")\n",
    "plt.xlabel('Date')\n",
    "plt.ylabel('Portfolio Value')\n",
    "plt.title('Portfolio Value Over Time')\n",
    "plt.show()"
   ]
  }
 ],
 "metadata": {
  "kernelspec": {
   "display_name": "Python 3",
   "language": "python",
   "name": "python3"
  },
  "language_info": {
   "codemirror_mode": {
    "name": "ipython",
    "version": 3
   },
   "file_extension": ".py",
   "mimetype": "text/x-python",
   "name": "python",
   "nbconvert_exporter": "python",
   "pygments_lexer": "ipython3",
   "version": "3.10.5"
  }
 },
 "nbformat": 4,
 "nbformat_minor": 2
}
